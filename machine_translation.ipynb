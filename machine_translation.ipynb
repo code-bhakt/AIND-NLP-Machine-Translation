{
 "cells": [
  {
   "cell_type": "markdown",
   "metadata": {
    "collapsed": true
   },
   "source": [
    "# Artificial Intelligence Nanodegree\n",
    "## Machine Translation Project\n",
    "In this notebook, sections that end with **'(IMPLEMENTATION)'** in the header indicate that the following blocks of code will require additional functionality which you must provide. Please be sure to read the instructions carefully!\n",
    "\n",
    "## Introduction\n",
    "In this notebook, you will build a deep neural network that functions as part of an end-to-end machine translation pipeline. Your completed pipeline will accept English text as input and return the French translation.\n",
    "\n",
    "- **Preprocess** - You'll convert text to sequence of integers.\n",
    "- **Models** Create models which accepts a sequence of integers as input and returns a probability distribution over possible translations. After learning about the basic types of neural networks that are often used for machine translation, you will engage in your own investigations, to design your own model!\n",
    "- **Prediction** Run the model on English text."
   ]
  },
  {
   "cell_type": "code",
   "execution_count": 1,
   "metadata": {},
   "outputs": [],
   "source": [
    "%load_ext autoreload\n",
    "%aimport helper, tests\n",
    "%autoreload 1"
   ]
  },
  {
   "cell_type": "code",
   "execution_count": 2,
   "metadata": {},
   "outputs": [
    {
     "name": "stderr",
     "output_type": "stream",
     "text": [
      "Using TensorFlow backend.\n"
     ]
    }
   ],
   "source": [
    "import collections\n",
    "\n",
    "import helper\n",
    "import numpy as np\n",
    "import project_tests as tests\n",
    "\n",
    "from keras.preprocessing.text import Tokenizer\n",
    "from keras.preprocessing.sequence import pad_sequences\n",
    "from keras.models import Model, Sequential\n",
    "from keras.layers import GRU, Input, Dense, TimeDistributed, Activation, RepeatVector, Bidirectional\n",
    "from keras.layers.embeddings import Embedding\n",
    "from keras.optimizers import Adam\n",
    "from keras.losses import sparse_categorical_crossentropy"
   ]
  },
  {
   "cell_type": "markdown",
   "metadata": {},
   "source": [
    "### Verify access to the GPU\n",
    "The following test applies only if you expect to be using a GPU, e.g., while running in a Udacity Workspace or using an AWS instance with GPU support. Run the next cell, and verify that the device_type is \"GPU\".\n",
    "- If the device is not GPU & you are running from a Udacity Workspace, then save your workspace with the icon at the top, then click \"enable\" at the bottom of the workspace.\n",
    "- If the device is not GPU & you are running from an AWS instance, then refer to the cloud computing instructions in the classroom to verify your setup steps."
   ]
  },
  {
   "cell_type": "code",
   "execution_count": 3,
   "metadata": {},
   "outputs": [
    {
     "name": "stdout",
     "output_type": "stream",
     "text": [
      "[name: \"/cpu:0\"\n",
      "device_type: \"CPU\"\n",
      "memory_limit: 268435456\n",
      "locality {\n",
      "}\n",
      "incarnation: 619525311836524368\n",
      ", name: \"/gpu:0\"\n",
      "device_type: \"GPU\"\n",
      "memory_limit: 357302272\n",
      "locality {\n",
      "  bus_id: 1\n",
      "}\n",
      "incarnation: 14978877295030206349\n",
      "physical_device_desc: \"device: 0, name: Tesla K80, pci bus id: 0000:00:04.0\"\n",
      "]\n"
     ]
    }
   ],
   "source": [
    "from tensorflow.python.client import device_lib\n",
    "print(device_lib.list_local_devices())"
   ]
  },
  {
   "cell_type": "markdown",
   "metadata": {},
   "source": [
    "## Dataset\n",
    "We begin by investigating the dataset that will be used to train and evaluate your pipeline.  The most common datasets used for machine translation are from [WMT](http://www.statmt.org/).  However, that will take a long time to train a neural network on.  We'll be using a dataset we created for this project that contains a small vocabulary.  You'll be able to train your model in a reasonable time with this dataset.\n",
    "### Load Data\n",
    "The data is located in `data/small_vocab_en` and `data/small_vocab_fr`. The `small_vocab_en` file contains English sentences with their French translations in the `small_vocab_fr` file. Load the English and French data from these files from running the cell below."
   ]
  },
  {
   "cell_type": "code",
   "execution_count": 4,
   "metadata": {},
   "outputs": [
    {
     "name": "stdout",
     "output_type": "stream",
     "text": [
      "Dataset Loaded\n"
     ]
    }
   ],
   "source": [
    "# Load English data\n",
    "english_sentences = helper.load_data('data/small_vocab_en')\n",
    "# Load French data\n",
    "french_sentences = helper.load_data('data/small_vocab_fr')\n",
    "\n",
    "print('Dataset Loaded')"
   ]
  },
  {
   "cell_type": "markdown",
   "metadata": {},
   "source": [
    "### Files\n",
    "Each line in `small_vocab_en` contains an English sentence with the respective translation in each line of `small_vocab_fr`.  View the first two lines from each file."
   ]
  },
  {
   "cell_type": "code",
   "execution_count": 5,
   "metadata": {},
   "outputs": [
    {
     "name": "stdout",
     "output_type": "stream",
     "text": [
      "small_vocab_en Line 1:  new jersey is sometimes quiet during autumn , and it is snowy in april .\n",
      "small_vocab_fr Line 1:  new jersey est parfois calme pendant l' automne , et il est neigeux en avril .\n",
      "small_vocab_en Line 2:  the united states is usually chilly during july , and it is usually freezing in november .\n",
      "small_vocab_fr Line 2:  les états-unis est généralement froid en juillet , et il gèle habituellement en novembre .\n"
     ]
    }
   ],
   "source": [
    "for sample_i in range(2):\n",
    "    print('small_vocab_en Line {}:  {}'.format(sample_i + 1, english_sentences[sample_i]))\n",
    "    print('small_vocab_fr Line {}:  {}'.format(sample_i + 1, french_sentences[sample_i]))"
   ]
  },
  {
   "cell_type": "markdown",
   "metadata": {},
   "source": [
    "From looking at the sentences, you can see they have been preprocessed already.  The puncuations have been delimited using spaces. All the text have been converted to lowercase.  This should save you some time, but the text requires more preprocessing.\n",
    "### Vocabulary\n",
    "The complexity of the problem is determined by the complexity of the vocabulary.  A more complex vocabulary is a more complex problem.  Let's look at the complexity of the dataset we'll be working with."
   ]
  },
  {
   "cell_type": "code",
   "execution_count": 6,
   "metadata": {},
   "outputs": [
    {
     "name": "stdout",
     "output_type": "stream",
     "text": [
      "1823250 English words.\n",
      "227 unique English words.\n",
      "10 Most common words in the English dataset:\n",
      "\"is\" \",\" \".\" \"in\" \"it\" \"during\" \"the\" \"but\" \"and\" \"sometimes\"\n",
      "\n",
      "1961295 French words.\n",
      "355 unique French words.\n",
      "10 Most common words in the French dataset:\n",
      "\"est\" \".\" \",\" \"en\" \"il\" \"les\" \"mais\" \"et\" \"la\" \"parfois\"\n"
     ]
    }
   ],
   "source": [
    "english_words_counter = collections.Counter([word for sentence in english_sentences for word in sentence.split()])\n",
    "french_words_counter = collections.Counter([word for sentence in french_sentences for word in sentence.split()])\n",
    "\n",
    "print('{} English words.'.format(len([word for sentence in english_sentences for word in sentence.split()])))\n",
    "print('{} unique English words.'.format(len(english_words_counter)))\n",
    "print('10 Most common words in the English dataset:')\n",
    "print('\"' + '\" \"'.join(list(zip(*english_words_counter.most_common(10)))[0]) + '\"')\n",
    "print()\n",
    "print('{} French words.'.format(len([word for sentence in french_sentences for word in sentence.split()])))\n",
    "print('{} unique French words.'.format(len(french_words_counter)))\n",
    "print('10 Most common words in the French dataset:')\n",
    "print('\"' + '\" \"'.join(list(zip(*french_words_counter.most_common(10)))[0]) + '\"')"
   ]
  },
  {
   "cell_type": "markdown",
   "metadata": {},
   "source": [
    "For comparison, _Alice's Adventures in Wonderland_ contains 2,766 unique words of a total of 15,500 words.\n",
    "## Preprocess\n",
    "For this project, you won't use text data as input to your model. Instead, you'll convert the text into sequences of integers using the following preprocess methods:\n",
    "1. Tokenize the words into ids\n",
    "2. Add padding to make all the sequences the same length.\n",
    "\n",
    "Time to start preprocessing the data...\n",
    "### Tokenize (IMPLEMENTATION)\n",
    "For a neural network to predict on text data, it first has to be turned into data it can understand. Text data like \"dog\" is a sequence of ASCII character encodings.  Since a neural network is a series of multiplication and addition operations, the input data needs to be number(s).\n",
    "\n",
    "We can turn each character into a number or each word into a number.  These are called character and word ids, respectively.  Character ids are used for character level models that generate text predictions for each character.  A word level model uses word ids that generate text predictions for each word.  Word level models tend to learn better, since they are lower in complexity, so we'll use those.\n",
    "\n",
    "Turn each sentence into a sequence of words ids using Keras's [`Tokenizer`](https://keras.io/preprocessing/text/#tokenizer) function. Use this function to tokenize `english_sentences` and `french_sentences` in the cell below.\n",
    "\n",
    "Running the cell will run `tokenize` on sample data and show output for debugging."
   ]
  },
  {
   "cell_type": "code",
   "execution_count": 7,
   "metadata": {},
   "outputs": [
    {
     "name": "stdout",
     "output_type": "stream",
     "text": [
      "{'the': 1, 'quick': 2, 'a': 3, 'brown': 4, 'fox': 5, 'jumps': 6, 'over': 7, 'lazy': 8, 'dog': 9, 'by': 10, 'jove': 11, 'my': 12, 'study': 13, 'of': 14, 'lexicography': 15, 'won': 16, 'prize': 17, 'this': 18, 'is': 19, 'short': 20, 'sentence': 21}\n",
      "\n",
      "Sequence 1 in x\n",
      "  Input:  The quick brown fox jumps over the lazy dog .\n",
      "  Output: [1, 2, 4, 5, 6, 7, 1, 8, 9]\n",
      "Sequence 2 in x\n",
      "  Input:  By Jove , my quick study of lexicography won a prize .\n",
      "  Output: [10, 11, 12, 2, 13, 14, 15, 16, 3, 17]\n",
      "Sequence 3 in x\n",
      "  Input:  This is a short sentence .\n",
      "  Output: [18, 19, 3, 20, 21]\n"
     ]
    }
   ],
   "source": [
    "def tokenize(x):\n",
    "    \"\"\"\n",
    "    Tokenize x\n",
    "    :param x: List of sentences/strings to be tokenized\n",
    "    :return: Tuple of (tokenized x data, tokenizer used to tokenize x)\n",
    "    \"\"\"\n",
    "    # TODO: Implement\n",
    "    t = Tokenizer()\n",
    "    t.fit_on_texts(x)\n",
    "    text_tokenized = t.texts_to_sequences(x)\n",
    "    \n",
    "    return text_tokenized, t\n",
    "tests.test_tokenize(tokenize)\n",
    "\n",
    "# Tokenize Example output\n",
    "text_sentences = [\n",
    "    'The quick brown fox jumps over the lazy dog .',\n",
    "    'By Jove , my quick study of lexicography won a prize .',\n",
    "    'This is a short sentence .']\n",
    "text_tokenized, text_tokenizer = tokenize(text_sentences)\n",
    "print(text_tokenizer.word_index)\n",
    "print()\n",
    "for sample_i, (sent, token_sent) in enumerate(zip(text_sentences, text_tokenized)):\n",
    "    print('Sequence {} in x'.format(sample_i + 1))\n",
    "    print('  Input:  {}'.format(sent))\n",
    "    print('  Output: {}'.format(token_sent))"
   ]
  },
  {
   "cell_type": "markdown",
   "metadata": {},
   "source": [
    "### Padding (IMPLEMENTATION)\n",
    "When batching the sequence of word ids together, each sequence needs to be the same length.  Since sentences are dynamic in length, we can add padding to the end of the sequences to make them the same length.\n",
    "\n",
    "Make sure all the English sequences have the same length and all the French sequences have the same length by adding padding to the **end** of each sequence using Keras's [`pad_sequences`](https://keras.io/preprocessing/sequence/#pad_sequences) function."
   ]
  },
  {
   "cell_type": "code",
   "execution_count": 8,
   "metadata": {},
   "outputs": [
    {
     "name": "stdout",
     "output_type": "stream",
     "text": [
      "Sequence 1 in x\n",
      "  Input:  [1 2 4 5 6 7 1 8 9]\n",
      "  Output: [1 2 4 5 6 7 1 8 9 0]\n",
      "Sequence 2 in x\n",
      "  Input:  [10 11 12  2 13 14 15 16  3 17]\n",
      "  Output: [10 11 12  2 13 14 15 16  3 17]\n",
      "Sequence 3 in x\n",
      "  Input:  [18 19  3 20 21]\n",
      "  Output: [18 19  3 20 21  0  0  0  0  0]\n"
     ]
    }
   ],
   "source": [
    "def pad(x, length=None):\n",
    "    \"\"\"\n",
    "    Pad x\n",
    "    :param x: List of sequences.\n",
    "    :param length: Length to pad the sequence to.  If None, use length of longest sequence in x.\n",
    "    :return: Padded numpy array of sequences\n",
    "    \"\"\"\n",
    "    # TODO: Implement\n",
    "    pad_sent = pad_sequences(x, length, padding = 'post')\n",
    "    return pad_sent\n",
    "tests.test_pad(pad)\n",
    "\n",
    "# Pad Tokenized output\n",
    "test_pad = pad(text_tokenized)\n",
    "for sample_i, (token_sent, pad_sent) in enumerate(zip(text_tokenized, test_pad)):\n",
    "    print('Sequence {} in x'.format(sample_i + 1))\n",
    "    print('  Input:  {}'.format(np.array(token_sent)))\n",
    "    print('  Output: {}'.format(pad_sent))"
   ]
  },
  {
   "cell_type": "markdown",
   "metadata": {},
   "source": [
    "### Preprocess Pipeline\n",
    "Your focus for this project is to build neural network architecture, so we won't ask you to create a preprocess pipeline.  Instead, we've provided you with the implementation of the `preprocess` function."
   ]
  },
  {
   "cell_type": "code",
   "execution_count": 9,
   "metadata": {},
   "outputs": [
    {
     "name": "stdout",
     "output_type": "stream",
     "text": [
      "Data Preprocessed\n",
      "Max English sentence length: 15\n",
      "Max French sentence length: 21\n",
      "English vocabulary size: 199\n",
      "French vocabulary size: 344\n"
     ]
    }
   ],
   "source": [
    "def preprocess(x, y):\n",
    "    \"\"\"\n",
    "    Preprocess x and y\n",
    "    :param x: Feature List of sentences\n",
    "    :param y: Label List of sentences\n",
    "    :return: Tuple of (Preprocessed x, Preprocessed y, x tokenizer, y tokenizer)\n",
    "    \"\"\"\n",
    "    preprocess_x, x_tk = tokenize(x)\n",
    "    preprocess_y, y_tk = tokenize(y)\n",
    "\n",
    "    preprocess_x = pad(preprocess_x)\n",
    "    preprocess_y = pad(preprocess_y)\n",
    "\n",
    "    # Keras's sparse_categorical_crossentropy function requires the labels to be in 3 dimensions\n",
    "    preprocess_y = preprocess_y.reshape(*preprocess_y.shape, 1)\n",
    "\n",
    "    return preprocess_x, preprocess_y, x_tk, y_tk\n",
    "\n",
    "preproc_english_sentences, preproc_french_sentences, english_tokenizer, french_tokenizer =\\\n",
    "    preprocess(english_sentences, french_sentences)\n",
    "    \n",
    "max_english_sequence_length = preproc_english_sentences.shape[1]\n",
    "max_french_sequence_length = preproc_french_sentences.shape[1]\n",
    "english_vocab_size = len(english_tokenizer.word_index)\n",
    "french_vocab_size = len(french_tokenizer.word_index)\n",
    "\n",
    "print('Data Preprocessed')\n",
    "print(\"Max English sentence length:\", max_english_sequence_length)\n",
    "print(\"Max French sentence length:\", max_french_sequence_length)\n",
    "print(\"English vocabulary size:\", english_vocab_size)\n",
    "print(\"French vocabulary size:\", french_vocab_size)"
   ]
  },
  {
   "cell_type": "markdown",
   "metadata": {},
   "source": [
    "## Models\n",
    "In this section, you will experiment with various neural network architectures.\n",
    "You will begin by training four relatively simple architectures.\n",
    "- Model 1 is a simple RNN\n",
    "- Model 2 is a RNN with Embedding\n",
    "- Model 3 is a Bidirectional RNN\n",
    "- Model 4 is an optional Encoder-Decoder RNN\n",
    "\n",
    "After experimenting with the four simple architectures, you will construct a deeper architecture that is designed to outperform all four models.\n",
    "### Ids Back to Text\n",
    "The neural network will be translating the input to words ids, which isn't the final form we want.  We want the French translation.  The function `logits_to_text` will bridge the gab between the logits from the neural network to the French translation.  You'll be using this function to better understand the output of the neural network."
   ]
  },
  {
   "cell_type": "code",
   "execution_count": 10,
   "metadata": {},
   "outputs": [
    {
     "name": "stdout",
     "output_type": "stream",
     "text": [
      "`logits_to_text` function loaded.\n"
     ]
    }
   ],
   "source": [
    "def logits_to_text(logits, tokenizer):\n",
    "    \"\"\"\n",
    "    Turn logits from a neural network into text using the tokenizer\n",
    "    :param logits: Logits from a neural network\n",
    "    :param tokenizer: Keras Tokenizer fit on the labels\n",
    "    :return: String that represents the text of the logits\n",
    "    \"\"\"\n",
    "    index_to_words = {id: word for word, id in tokenizer.word_index.items()}\n",
    "    index_to_words[0] = '<PAD>'\n",
    "\n",
    "    return ' '.join([index_to_words[prediction] for prediction in np.argmax(logits, 1)])\n",
    "\n",
    "print('`logits_to_text` function loaded.')"
   ]
  },
  {
   "cell_type": "markdown",
   "metadata": {},
   "source": [
    "### Model 1: RNN (IMPLEMENTATION)\n",
    "![RNN](images/rnn.png)\n",
    "A basic RNN model is a good baseline for sequence data.  In this model, you'll build a RNN that translates English to French."
   ]
  },
  {
   "cell_type": "code",
   "execution_count": 33,
   "metadata": {},
   "outputs": [
    {
     "name": "stdout",
     "output_type": "stream",
     "text": [
      "<bound method Container.summary of <keras.models.Sequential object at 0x7f7a01ca24a8>>\n",
      "<bound method Container.summary of <keras.models.Sequential object at 0x7f7a01cadcf8>>\n",
      "Train on 110288 samples, validate on 27573 samples\n",
      "Epoch 1/10\n",
      "110288/110288 [==============================] - 12s 111us/step - loss: 3.6687 - acc: 0.3944 - val_loss: nan - val_acc: 0.4745\n",
      "Epoch 2/10\n",
      "110288/110288 [==============================] - 7s 64us/step - loss: 2.2984 - acc: 0.5147 - val_loss: nan - val_acc: 0.5457\n",
      "Epoch 3/10\n",
      "110288/110288 [==============================] - 7s 64us/step - loss: 1.9127 - acc: 0.5557 - val_loss: nan - val_acc: 0.5696\n",
      "Epoch 4/10\n",
      "110288/110288 [==============================] - 7s 64us/step - loss: 1.7123 - acc: 0.5782 - val_loss: nan - val_acc: 0.5845\n",
      "Epoch 5/10\n",
      "110288/110288 [==============================] - 7s 64us/step - loss: 1.6125 - acc: 0.5904 - val_loss: nan - val_acc: 0.5937\n",
      "Epoch 6/10\n",
      "110288/110288 [==============================] - 7s 65us/step - loss: 1.5475 - acc: 0.5987 - val_loss: nan - val_acc: 0.6059\n",
      "Epoch 7/10\n",
      "110288/110288 [==============================] - 7s 64us/step - loss: 1.5017 - acc: 0.6060 - val_loss: nan - val_acc: 0.6120\n",
      "Epoch 8/10\n",
      "110288/110288 [==============================] - 7s 64us/step - loss: 1.4694 - acc: 0.6092 - val_loss: nan - val_acc: 0.6080\n",
      "Epoch 9/10\n",
      "110288/110288 [==============================] - 7s 64us/step - loss: 1.4462 - acc: 0.6120 - val_loss: nan - val_acc: 0.6143\n",
      "Epoch 10/10\n",
      "110288/110288 [==============================] - 7s 65us/step - loss: 1.4280 - acc: 0.6147 - val_loss: nan - val_acc: 0.6173\n",
      "paris jersey est parfois chaud en mois mais il est il en en <PAD> <PAD> <PAD> <PAD> <PAD> <PAD> <PAD> <PAD>\n"
     ]
    }
   ],
   "source": [
    "def simple_model(input_shape, output_sequence_length, english_vocab_size, french_vocab_size):\n",
    "    \"\"\"\n",
    "    Build and train a basic RNN on x and y\n",
    "    :param input_shape: Tuple of input shape\n",
    "    :param output_sequence_length: Length of output sequence\n",
    "    :param english_vocab_size: Number of unique English words in the dataset\n",
    "    :param french_vocab_size: Number of unique French words in the dataset\n",
    "    :return: Keras model built, but not trained\n",
    "    \"\"\"\n",
    "    # TODO: Build the layers\n",
    "    learning_rate = 0.001\n",
    "    model = Sequential()\n",
    "    model.add(GRU(output_sequence_length, input_shape = input_shape[1:], return_sequences=True, activation='relu'))\n",
    "    model.add(Dense(french_vocab_size, activation='softmax'))\n",
    "    model.compile(loss=sparse_categorical_crossentropy,\n",
    "                  optimizer=Adam(learning_rate),\n",
    "                  metrics=['accuracy'])\n",
    "    print(model.summary)\n",
    "    return model\n",
    "tests.test_simple_model(simple_model)\n",
    "\n",
    "# Reshaping the input to work with a basic RNN\n",
    "tmp_x = pad(preproc_english_sentences, max_french_sequence_length)\n",
    "tmp_x = tmp_x.reshape((-1, preproc_french_sentences.shape[-2], 1))\n",
    "\n",
    "# Train the neural network\n",
    "simple_rnn_model = simple_model(\n",
    "    tmp_x.shape,\n",
    "    max_french_sequence_length,\n",
    "    english_vocab_size,\n",
    "    french_vocab_size)\n",
    "simple_rnn_model.fit(tmp_x, preproc_french_sentences, batch_size=1024, epochs=10, validation_split=0.2)\n",
    "\n",
    "# Print prediction(s)\n",
    "print(logits_to_text(simple_rnn_model.predict(tmp_x[:1])[0], french_tokenizer))"
   ]
  },
  {
   "cell_type": "markdown",
   "metadata": {},
   "source": [
    "### Model 2: Embedding (IMPLEMENTATION)\n",
    "![RNN](images/embedding.png)\n",
    "You've turned the words into ids, but there's a better representation of a word.  This is called word embeddings.  An embedding is a vector representation of the word that is close to similar words in n-dimensional space, where the n represents the size of the embedding vectors.\n",
    "\n",
    "In this model, you'll create a RNN model using embedding."
   ]
  },
  {
   "cell_type": "code",
   "execution_count": 34,
   "metadata": {
    "scrolled": true
   },
   "outputs": [
    {
     "name": "stdout",
     "output_type": "stream",
     "text": [
      "_________________________________________________________________\n",
      "Layer (type)                 Output Shape              Param #   \n",
      "=================================================================\n",
      "embedding_37 (Embedding)     (None, 21, 128)           25472     \n",
      "_________________________________________________________________\n",
      "gru_69 (GRU)                 (None, 21, 128)           98688     \n",
      "_________________________________________________________________\n",
      "dense_38 (Dense)             (None, 21, 344)           44376     \n",
      "=================================================================\n",
      "Total params: 168,536\n",
      "Trainable params: 168,536\n",
      "Non-trainable params: 0\n",
      "_________________________________________________________________\n",
      "None\n",
      "_________________________________________________________________\n",
      "Layer (type)                 Output Shape              Param #   \n",
      "=================================================================\n",
      "embedding_38 (Embedding)     (None, 21, 128)           25472     \n",
      "_________________________________________________________________\n",
      "gru_70 (GRU)                 (None, 21, 128)           98688     \n",
      "_________________________________________________________________\n",
      "dense_39 (Dense)             (None, 21, 344)           44376     \n",
      "=================================================================\n",
      "Total params: 168,536\n",
      "Trainable params: 168,536\n",
      "Non-trainable params: 0\n",
      "_________________________________________________________________\n",
      "None\n",
      "Train on 110288 samples, validate on 27573 samples\n",
      "Epoch 1/10\n",
      "110288/110288 [==============================] - 14s 129us/step - loss: 3.3879 - acc: 0.4131 - val_loss: nan - val_acc: 0.4736\n",
      "Epoch 2/10\n",
      "110288/110288 [==============================] - 9s 85us/step - loss: 2.0900 - acc: 0.5454 - val_loss: nan - val_acc: 0.6284\n",
      "Epoch 3/10\n",
      "110288/110288 [==============================] - 9s 85us/step - loss: 1.3520 - acc: 0.6759 - val_loss: nan - val_acc: 0.7255\n",
      "Epoch 4/10\n",
      "110288/110288 [==============================] - 9s 86us/step - loss: 1.0099 - acc: 0.7524 - val_loss: nan - val_acc: 0.7775\n",
      "Epoch 5/10\n",
      "110288/110288 [==============================] - 9s 85us/step - loss: 0.7897 - acc: 0.7936 - val_loss: nan - val_acc: 0.8102\n",
      "Epoch 6/10\n",
      "110288/110288 [==============================] - 9s 85us/step - loss: 0.6484 - acc: 0.8206 - val_loss: nan - val_acc: 0.8316\n",
      "Epoch 7/10\n",
      "110288/110288 [==============================] - 9s 86us/step - loss: 0.5566 - acc: 0.8396 - val_loss: nan - val_acc: 0.8485\n",
      "Epoch 8/10\n",
      "110288/110288 [==============================] - 9s 86us/step - loss: 0.4925 - acc: 0.8558 - val_loss: nan - val_acc: 0.8627\n",
      "Epoch 9/10\n",
      "110288/110288 [==============================] - 9s 86us/step - loss: 0.4449 - acc: 0.8691 - val_loss: nan - val_acc: 0.8750\n",
      "Epoch 10/10\n",
      "110288/110288 [==============================] - 9s 85us/step - loss: 0.4046 - acc: 0.8800 - val_loss: nan - val_acc: 0.8848\n",
      "new jersey est parfois calme en l' et il est neigeux en avril avril <PAD> <PAD> <PAD> <PAD> <PAD> <PAD> <PAD>\n"
     ]
    }
   ],
   "source": [
    "def embed_model(input_shape, output_sequence_length, english_vocab_size, french_vocab_size):\n",
    "    \"\"\"\n",
    "    Build and train a RNN model using word embedding on x and y\n",
    "    :param input_shape: Tuple of input shape\n",
    "    :param output_sequence_length: Length of output sequence\n",
    "    :param english_vocab_size: Number of unique English words in the dataset\n",
    "    :param french_vocab_size: Number of unique French words in the dataset\n",
    "    :return: Keras model built, but not trained\n",
    "    \"\"\"\n",
    "    # TODO: Implement\n",
    "    model = Sequential()\n",
    "    model.add(Embedding(english_vocab_size ,128 , input_shape=input_shape[1:]))\n",
    "    model.add(GRU(128, return_sequences=True))\n",
    "    model.add(Dense(french_vocab_size, activation='softmax'))\n",
    "    learning_rate = 0.001\n",
    "    model.compile(loss=sparse_categorical_crossentropy,\n",
    "                  optimizer=Adam(learning_rate),\n",
    "                  metrics=['accuracy'])\n",
    "    \n",
    "    print(model.summary())\n",
    "    return model\n",
    "tests.test_embed_model(embed_model)\n",
    "\n",
    "# TODO: Reshape the input\n",
    "tmp_x = pad(preproc_english_sentences, max_french_sequence_length)\n",
    "# tmp_x = tmp_x.reshape((-1, preproc_french_sentences.shape[-2], 1))\n",
    "\n",
    "# TODO: Train the neural network\n",
    "embed_rnn_model = embed_model(\n",
    "    tmp_x.shape,\n",
    "    max_french_sequence_length,\n",
    "    english_vocab_size,\n",
    "    french_vocab_size)\n",
    "embed_rnn_model.fit(tmp_x, preproc_french_sentences, batch_size=1024, epochs=10, validation_split=0.2)\n",
    "\n",
    "# TODO: Print prediction(s)\n",
    "print(logits_to_text(embed_rnn_model.predict(tmp_x[:1])[0], french_tokenizer))"
   ]
  },
  {
   "cell_type": "markdown",
   "metadata": {},
   "source": [
    "<img src=\"images/bidirectional.png\">\n",
    "One restriction of a RNN is that it can't see the future input, only the past. This is where bidirectional recurrent neural networks come in. They are able to see the future data."
   ]
  },
  {
   "cell_type": "code",
   "execution_count": 35,
   "metadata": {},
   "outputs": [
    {
     "name": "stdout",
     "output_type": "stream",
     "text": [
      "_________________________________________________________________\n",
      "Layer (type)                 Output Shape              Param #   \n",
      "=================================================================\n",
      "bidirectional_67 (Bidirectio (None, 21, 42)            2898      \n",
      "_________________________________________________________________\n",
      "dense_40 (Dense)             (None, 21, 344)           14792     \n",
      "=================================================================\n",
      "Total params: 17,690\n",
      "Trainable params: 17,690\n",
      "Non-trainable params: 0\n",
      "_________________________________________________________________\n",
      "None\n",
      "_________________________________________________________________\n",
      "Layer (type)                 Output Shape              Param #   \n",
      "=================================================================\n",
      "bidirectional_68 (Bidirectio (None, 21, 42)            2898      \n",
      "_________________________________________________________________\n",
      "dense_41 (Dense)             (None, 21, 344)           14792     \n",
      "=================================================================\n",
      "Total params: 17,690\n",
      "Trainable params: 17,690\n",
      "Non-trainable params: 0\n",
      "_________________________________________________________________\n",
      "None\n",
      "Train on 110288 samples, validate on 27573 samples\n",
      "Epoch 1/10\n",
      "110288/110288 [==============================] - 15s 136us/step - loss: 3.6988 - acc: 0.3856 - val_loss: nan - val_acc: 0.5256\n",
      "Epoch 2/10\n",
      "110288/110288 [==============================] - 10s 92us/step - loss: 1.8099 - acc: 0.5618 - val_loss: nan - val_acc: 0.5842\n",
      "Epoch 3/10\n",
      "110288/110288 [==============================] - 10s 92us/step - loss: 1.5217 - acc: 0.5961 - val_loss: nan - val_acc: 0.6093\n",
      "Epoch 4/10\n",
      "110288/110288 [==============================] - 10s 92us/step - loss: 1.4220 - acc: 0.6134 - val_loss: nan - val_acc: 0.6210\n",
      "Epoch 5/10\n",
      "110288/110288 [==============================] - 10s 92us/step - loss: 1.3548 - acc: 0.6237 - val_loss: nan - val_acc: 0.6296\n",
      "Epoch 6/10\n",
      "110288/110288 [==============================] - 10s 92us/step - loss: 1.3092 - acc: 0.6332 - val_loss: nan - val_acc: 0.6367\n",
      "Epoch 7/10\n",
      "110288/110288 [==============================] - 10s 92us/step - loss: 1.2788 - acc: 0.6391 - val_loss: nan - val_acc: 0.6446\n",
      "Epoch 8/10\n",
      "110288/110288 [==============================] - 10s 92us/step - loss: 1.2552 - acc: 0.6438 - val_loss: nan - val_acc: 0.6462\n",
      "Epoch 9/10\n",
      "110288/110288 [==============================] - 10s 92us/step - loss: 1.2359 - acc: 0.6479 - val_loss: nan - val_acc: 0.6522\n",
      "Epoch 10/10\n",
      "110288/110288 [==============================] - 10s 91us/step - loss: 1.2202 - acc: 0.6514 - val_loss: nan - val_acc: 0.6483\n",
      "new jersey est parfois calme en en et il est est en en <PAD> <PAD> <PAD> <PAD> <PAD> <PAD> <PAD> <PAD>\n"
     ]
    }
   ],
   "source": [
    "def bd_model(input_shape, output_sequence_length, english_vocab_size, french_vocab_size):\n",
    "    \"\"\"\n",
    "    Build and train a bidirectional RNN model on x and y\n",
    "    :param input_shape: Tuple of input shape\n",
    "    :param output_sequence_length: Length of output sequence\n",
    "    :param english_vocab_size: Number of unique English words in the dataset\n",
    "    :param french_vocab_size: Number of unique French words in the dataset\n",
    "    :return: Keras model built, but not trained\n",
    "    \"\"\"\n",
    "    # TODO: Implement\n",
    "    model = Sequential()\n",
    "    model.add(Bidirectional(GRU(output_sequence_length, return_sequences=True, activation='relu'), input_shape=input_shape[1:]))\n",
    "    model.add(Dense(french_vocab_size, activation='softmax'))\n",
    "    learning_rate=0.001\n",
    "    model.compile(loss=sparse_categorical_crossentropy,\n",
    "                  optimizer=Adam(learning_rate),\n",
    "                  metrics=['accuracy'])\n",
    "    print(model.summary())\n",
    "    return model\n",
    "tests.test_bd_model(bd_model)\n",
    "\n",
    "\n",
    "# TODO: Train and Print prediction(s)\n",
    "\n",
    "# Reshape the input\n",
    "tmp_x = pad(preproc_english_sentences, max_french_sequence_length)\n",
    "tmp_x = tmp_x.reshape((-1, preproc_french_sentences.shape[-2], 1))\n",
    "\n",
    "# Train the neural network\n",
    "bd_rnn_model = bd_model(\n",
    "    tmp_x.shape,\n",
    "    max_french_sequence_length,\n",
    "    english_vocab_size,\n",
    "    french_vocab_size)\n",
    "bd_rnn_model.fit(tmp_x, preproc_french_sentences, batch_size=1024, epochs=10, validation_split=0.2)\n",
    "\n",
    "# Print prediction(s)\n",
    "print(logits_to_text(bd_rnn_model.predict(tmp_x[:1])[0], french_tokenizer))"
   ]
  },
  {
   "cell_type": "markdown",
   "metadata": {},
   "source": [
    "### Model 4: Encoder-Decoder (OPTIONAL)\n",
    "Time to look at encoder-decoder models.  This model is made up of an encoder and decoder. The encoder creates a matrix representation of the sentence.  The decoder takes this matrix as input and predicts the translation as output.\n",
    "\n",
    "Create an encoder-decoder model in the cell below."
   ]
  },
  {
   "cell_type": "code",
   "execution_count": null,
   "metadata": {},
   "outputs": [],
   "source": [
    "def encdec_model(input_shape, output_sequence_length, english_vocab_size, french_vocab_size):\n",
    "    \"\"\"\n",
    "    Build and train an encoder-decoder model on x and y\n",
    "    :param input_shape: Tuple of input shape\n",
    "    :param output_sequence_length: Length of output sequence\n",
    "    :param english_vocab_size: Number of unique English words in the dataset\n",
    "    :param french_vocab_size: Number of unique French words in the dataset\n",
    "    :return: Keras model built, but not trained\n",
    "    \"\"\"\n",
    "    # OPTIONAL: Implement\n",
    "    return None\n",
    "tests.test_encdec_model(encdec_model)\n",
    "\n",
    "\n",
    "# OPTIONAL: Train and Print prediction(s)"
   ]
  },
  {
   "cell_type": "markdown",
   "metadata": {},
   "source": [
    "### Model 5: Custom (IMPLEMENTATION)\n",
    "Use everything you learned from the previous models to create a model that incorporates embedding and a bidirectional rnn into one model."
   ]
  },
  {
   "cell_type": "code",
   "execution_count": 14,
   "metadata": {},
   "outputs": [
    {
     "name": "stdout",
     "output_type": "stream",
     "text": [
      "_________________________________________________________________\n",
      "Layer (type)                 Output Shape              Param #   \n",
      "=================================================================\n",
      "embedding_5 (Embedding)      (None, 15, 128)           25472     \n",
      "_________________________________________________________________\n",
      "bidirectional_9 (Bidirection (None, 256)               197376    \n",
      "_________________________________________________________________\n",
      "repeat_vector_5 (RepeatVecto (None, 21, 256)           0         \n",
      "_________________________________________________________________\n",
      "bidirectional_10 (Bidirectio (None, 21, 256)           295680    \n",
      "_________________________________________________________________\n",
      "time_distributed_5 (TimeDist (None, 21, 344)           88408     \n",
      "=================================================================\n",
      "Total params: 606,936\n",
      "Trainable params: 606,936\n",
      "Non-trainable params: 0\n",
      "_________________________________________________________________\n",
      "None\n",
      "Final Model Loaded\n",
      "_________________________________________________________________\n",
      "Layer (type)                 Output Shape              Param #   \n",
      "=================================================================\n",
      "embedding_6 (Embedding)      (None, 21, 128)           25472     \n",
      "_________________________________________________________________\n",
      "bidirectional_11 (Bidirectio (None, 256)               197376    \n",
      "_________________________________________________________________\n",
      "repeat_vector_6 (RepeatVecto (None, 21, 256)           0         \n",
      "_________________________________________________________________\n",
      "bidirectional_12 (Bidirectio (None, 21, 256)           295680    \n",
      "_________________________________________________________________\n",
      "time_distributed_6 (TimeDist (None, 21, 344)           88408     \n",
      "=================================================================\n",
      "Total params: 606,936\n",
      "Trainable params: 606,936\n",
      "Non-trainable params: 0\n",
      "_________________________________________________________________\n",
      "None\n",
      "Train on 110288 samples, validate on 27573 samples\n",
      "Epoch 1/35\n",
      "110288/110288 [==============================] - 27s 244us/step - loss: 3.1355 - acc: 0.4355 - val_loss: nan - val_acc: 0.4934\n",
      "Epoch 2/35\n",
      "110288/110288 [==============================] - 26s 231us/step - loss: 1.9558 - acc: 0.5297 - val_loss: nan - val_acc: 0.5667\n",
      "Epoch 3/35\n",
      "110288/110288 [==============================] - 26s 231us/step - loss: 1.5084 - acc: 0.6013 - val_loss: nan - val_acc: 0.6242\n",
      "Epoch 4/35\n",
      "110288/110288 [==============================] - 25s 231us/step - loss: 1.3001 - acc: 0.6432 - val_loss: nan - val_acc: 0.6691\n",
      "Epoch 5/35\n",
      "110288/110288 [==============================] - 25s 231us/step - loss: 1.1394 - acc: 0.6797 - val_loss: nan - val_acc: 0.7006\n",
      "Epoch 6/35\n",
      "110288/110288 [==============================] - 25s 231us/step - loss: 1.0123 - acc: 0.7049 - val_loss: nan - val_acc: 0.7085\n",
      "Epoch 7/35\n",
      "110288/110288 [==============================] - 25s 231us/step - loss: 0.9197 - acc: 0.7241 - val_loss: nan - val_acc: 0.7267\n",
      "Epoch 8/35\n",
      "110288/110288 [==============================] - 25s 229us/step - loss: 0.8426 - acc: 0.7431 - val_loss: nan - val_acc: 0.7480\n",
      "Epoch 9/35\n",
      "110288/110288 [==============================] - 25s 228us/step - loss: 0.7940 - acc: 0.7567 - val_loss: nan - val_acc: 0.7717\n",
      "Epoch 10/35\n",
      "110288/110288 [==============================] - 25s 230us/step - loss: 0.7799 - acc: 0.7621 - val_loss: nan - val_acc: 0.7784\n",
      "Epoch 11/35\n",
      "110288/110288 [==============================] - 25s 230us/step - loss: 0.6830 - acc: 0.7902 - val_loss: nan - val_acc: 0.7875\n",
      "Epoch 12/35\n",
      "110288/110288 [==============================] - 25s 231us/step - loss: 0.6365 - acc: 0.8048 - val_loss: nan - val_acc: 0.8114\n",
      "Epoch 13/35\n",
      "110288/110288 [==============================] - 25s 231us/step - loss: 0.7606 - acc: 0.7749 - val_loss: nan - val_acc: 0.8165\n",
      "Epoch 14/35\n",
      "110288/110288 [==============================] - 25s 230us/step - loss: 0.5693 - acc: 0.8269 - val_loss: nan - val_acc: 0.8359\n",
      "Epoch 15/35\n",
      "110288/110288 [==============================] - 25s 230us/step - loss: 0.5263 - acc: 0.8394 - val_loss: nan - val_acc: 0.8484\n",
      "Epoch 16/35\n",
      "110288/110288 [==============================] - 25s 231us/step - loss: 0.4883 - acc: 0.8507 - val_loss: nan - val_acc: 0.8559\n",
      "Epoch 17/35\n",
      "110288/110288 [==============================] - 25s 231us/step - loss: 0.4530 - acc: 0.8623 - val_loss: nan - val_acc: 0.8732\n",
      "Epoch 18/35\n",
      "110288/110288 [==============================] - 25s 231us/step - loss: 0.4067 - acc: 0.8778 - val_loss: nan - val_acc: 0.8819\n",
      "Epoch 19/35\n",
      "110288/110288 [==============================] - 25s 231us/step - loss: 0.4647 - acc: 0.8654 - val_loss: nan - val_acc: 0.7181\n",
      "Epoch 20/35\n",
      "110288/110288 [==============================] - 25s 230us/step - loss: 0.4592 - acc: 0.8644 - val_loss: nan - val_acc: 0.8933\n",
      "Epoch 21/35\n",
      "110288/110288 [==============================] - 25s 230us/step - loss: 0.3299 - acc: 0.9036 - val_loss: nan - val_acc: 0.9004\n",
      "Epoch 22/35\n",
      "110288/110288 [==============================] - 25s 230us/step - loss: 0.3098 - acc: 0.9096 - val_loss: nan - val_acc: 0.9129\n",
      "Epoch 23/35\n",
      "110288/110288 [==============================] - 25s 230us/step - loss: 0.2789 - acc: 0.9196 - val_loss: nan - val_acc: 0.9219\n",
      "Epoch 24/35\n",
      "110288/110288 [==============================] - 25s 231us/step - loss: 0.2588 - acc: 0.9257 - val_loss: nan - val_acc: 0.9289\n",
      "Epoch 25/35\n",
      "110288/110288 [==============================] - 25s 231us/step - loss: 0.2579 - acc: 0.9260 - val_loss: nan - val_acc: 0.9324\n",
      "Epoch 26/35\n",
      "110288/110288 [==============================] - 25s 230us/step - loss: 0.2267 - acc: 0.9359 - val_loss: nan - val_acc: 0.9345\n",
      "Epoch 27/35\n",
      "110288/110288 [==============================] - 25s 231us/step - loss: 0.2260 - acc: 0.9358 - val_loss: nan - val_acc: 0.9409\n",
      "Epoch 28/35\n",
      "110288/110288 [==============================] - 25s 230us/step - loss: 0.2025 - acc: 0.9430 - val_loss: nan - val_acc: 0.9422\n",
      "Epoch 29/35\n",
      "110288/110288 [==============================] - 25s 230us/step - loss: 0.1891 - acc: 0.9469 - val_loss: nan - val_acc: 0.9453\n",
      "Epoch 30/35\n",
      "110288/110288 [==============================] - 25s 230us/step - loss: 0.4205 - acc: 0.8827 - val_loss: nan - val_acc: 0.9401\n",
      "Epoch 31/35\n",
      "110288/110288 [==============================] - 25s 231us/step - loss: 0.1905 - acc: 0.9469 - val_loss: nan - val_acc: 0.9482\n",
      "Epoch 32/35\n",
      "110288/110288 [==============================] - 25s 231us/step - loss: 0.1718 - acc: 0.9520 - val_loss: nan - val_acc: 0.9457\n",
      "Epoch 33/35\n",
      "110288/110288 [==============================] - 25s 231us/step - loss: 0.1649 - acc: 0.9538 - val_loss: nan - val_acc: 0.9529\n",
      "Epoch 34/35\n",
      "110288/110288 [==============================] - 25s 230us/step - loss: 0.1578 - acc: 0.9558 - val_loss: nan - val_acc: 0.9541\n",
      "Epoch 35/35\n",
      "110288/110288 [==============================] - 26s 231us/step - loss: 0.1501 - acc: 0.9580 - val_loss: nan - val_acc: 0.9563\n",
      "new jersey est parfois calme pendant l' automne et il est neigeux en avril <PAD> <PAD> <PAD> <PAD> <PAD> <PAD> <PAD>\n"
     ]
    }
   ],
   "source": [
    "def model_final(input_shape, output_sequence_length, english_vocab_size, french_vocab_size):\n",
    "    \"\"\"\n",
    "    Build and train a model that incorporates embedding, encoder-decoder, and bidirectional RNN on x and y\n",
    "    :param input_shape: Tuple of input shape\n",
    "    :param output_sequence_length: Length of output sequence\n",
    "    :param english_vocab_size: Number of unique English words in the dataset\n",
    "    :param french_vocab_size: Number of unique French words in the dataset\n",
    "    :return: Keras model built, but not trained\n",
    "    \"\"\"\n",
    "    # TODO: Implement\n",
    "    model = Sequential()\n",
    "    model.add(Embedding(english_vocab_size ,128 , input_shape=input_shape[1:]))\n",
    "    model.add(Bidirectional(GRU(128, return_sequences=False, activation='relu')))\n",
    "    model.add(RepeatVector(output_sequence_length))\n",
    "    model.add(Bidirectional(GRU(128, return_sequences=True, activation='relu')))\n",
    "    model.add(TimeDistributed(Dense(french_vocab_size, activation='softmax')))\n",
    "    learning_rate = 0.01\n",
    "    model.compile(loss=sparse_categorical_crossentropy,\n",
    "                  optimizer='Adam',\n",
    "                  metrics=['accuracy'])\n",
    "    \n",
    "    print(model.summary())\n",
    "    return model\n",
    "tests.test_model_final(model_final)\n",
    "\n",
    "\n",
    "print('Final Model Loaded')\n",
    "# TODO: Train the final model\n",
    "\n",
    "\n",
    "# Reshape the input\n",
    "tmp_x = pad(preproc_english_sentences, max_french_sequence_length)\n",
    "# tmp_x = tmp_x.reshape((-1, preproc_french_sentences.shape[-2], 1))\n",
    "\n",
    "# Train the neural network\n",
    "final_rnn_model = model_final(\n",
    "    tmp_x.shape,\n",
    "    max_french_sequence_length,\n",
    "    english_vocab_size,\n",
    "    french_vocab_size)\n",
    "final_rnn_model.fit(tmp_x, preproc_french_sentences, batch_size=1024, epochs=35, validation_split=0.2)\n",
    "\n",
    "# Print prediction(s)\n",
    "print(logits_to_text(final_rnn_model.predict(tmp_x[:1])[0], french_tokenizer))"
   ]
  },
  {
   "cell_type": "markdown",
   "metadata": {},
   "source": [
    "## Prediction (IMPLEMENTATION)"
   ]
  },
  {
   "cell_type": "code",
   "execution_count": 15,
   "metadata": {},
   "outputs": [
    {
     "name": "stdout",
     "output_type": "stream",
     "text": [
      "_________________________________________________________________\n",
      "Layer (type)                 Output Shape              Param #   \n",
      "=================================================================\n",
      "embedding_7 (Embedding)      (None, 21, 128)           25472     \n",
      "_________________________________________________________________\n",
      "bidirectional_13 (Bidirectio (None, 256)               197376    \n",
      "_________________________________________________________________\n",
      "repeat_vector_7 (RepeatVecto (None, 21, 256)           0         \n",
      "_________________________________________________________________\n",
      "bidirectional_14 (Bidirectio (None, 21, 256)           295680    \n",
      "_________________________________________________________________\n",
      "time_distributed_7 (TimeDist (None, 21, 344)           88408     \n",
      "=================================================================\n",
      "Total params: 606,936\n",
      "Trainable params: 606,936\n",
      "Non-trainable params: 0\n",
      "_________________________________________________________________\n",
      "None\n",
      "Train on 110288 samples, validate on 27573 samples\n",
      "Epoch 1/35\n",
      "110288/110288 [==============================] - 28s 249us/step - loss: 3.1230 - acc: 0.4414 - val_loss: nan - val_acc: 0.5050\n",
      "Epoch 2/35\n",
      "110288/110288 [==============================] - 26s 231us/step - loss: 1.8623 - acc: 0.5364 - val_loss: nan - val_acc: 0.5547\n",
      "Epoch 3/35\n",
      "110288/110288 [==============================] - 26s 232us/step - loss: 1.5028 - acc: 0.6040 - val_loss: nan - val_acc: 0.6333\n",
      "Epoch 4/35\n",
      "110288/110288 [==============================] - 26s 232us/step - loss: 1.2807 - acc: 0.6504 - val_loss: nan - val_acc: 0.6691\n",
      "Epoch 5/35\n",
      "110288/110288 [==============================] - 26s 232us/step - loss: 1.1306 - acc: 0.6819 - val_loss: nan - val_acc: 0.6921\n",
      "Epoch 6/35\n",
      "110288/110288 [==============================] - 26s 232us/step - loss: 1.0341 - acc: 0.6997 - val_loss: nan - val_acc: 0.7116\n",
      "Epoch 7/35\n",
      "110288/110288 [==============================] - 26s 232us/step - loss: 0.9388 - acc: 0.7196 - val_loss: nan - val_acc: 0.7314\n",
      "Epoch 8/35\n",
      "110288/110288 [==============================] - 25s 231us/step - loss: 0.8662 - acc: 0.7376 - val_loss: nan - val_acc: 0.7418\n",
      "Epoch 9/35\n",
      "110288/110288 [==============================] - 26s 232us/step - loss: 0.8192 - acc: 0.7508 - val_loss: nan - val_acc: 0.7630\n",
      "Epoch 10/35\n",
      "110288/110288 [==============================] - 25s 230us/step - loss: 0.7495 - acc: 0.7721 - val_loss: nan - val_acc: 0.7772\n",
      "Epoch 11/35\n",
      "110288/110288 [==============================] - 26s 234us/step - loss: 0.7477 - acc: 0.7746 - val_loss: nan - val_acc: 0.7948\n",
      "Epoch 12/35\n",
      "110288/110288 [==============================] - 25s 230us/step - loss: 0.6570 - acc: 0.8020 - val_loss: nan - val_acc: 0.8069\n",
      "Epoch 13/35\n",
      "110288/110288 [==============================] - 25s 230us/step - loss: 0.6695 - acc: 0.8023 - val_loss: nan - val_acc: 0.8215\n",
      "Epoch 14/35\n",
      "110288/110288 [==============================] - 25s 230us/step - loss: 0.5750 - acc: 0.8276 - val_loss: nan - val_acc: 0.8342\n",
      "Epoch 15/35\n",
      "110288/110288 [==============================] - 25s 230us/step - loss: 0.6277 - acc: 0.8126 - val_loss: nan - val_acc: 0.8110\n",
      "Epoch 16/35\n",
      "110288/110288 [==============================] - 25s 231us/step - loss: 0.5126 - acc: 0.8460 - val_loss: nan - val_acc: 0.8546\n",
      "Epoch 17/35\n",
      "110288/110288 [==============================] - 26s 232us/step - loss: 0.4732 - acc: 0.8574 - val_loss: nan - val_acc: 0.8637\n",
      "Epoch 18/35\n",
      "110288/110288 [==============================] - 26s 231us/step - loss: 0.4410 - acc: 0.8670 - val_loss: nan - val_acc: 0.8710\n",
      "Epoch 19/35\n",
      "110288/110288 [==============================] - 26s 232us/step - loss: 0.4189 - acc: 0.8741 - val_loss: nan - val_acc: 0.8797\n",
      "Epoch 20/35\n",
      "110288/110288 [==============================] - 25s 230us/step - loss: 0.4434 - acc: 0.8716 - val_loss: nan - val_acc: 0.7870\n",
      "Epoch 21/35\n",
      "110288/110288 [==============================] - 26s 232us/step - loss: 0.4170 - acc: 0.8768 - val_loss: nan - val_acc: 0.8970\n",
      "Epoch 22/35\n",
      "110288/110288 [==============================] - 25s 230us/step - loss: 0.3388 - acc: 0.8994 - val_loss: nan - val_acc: 0.9036\n",
      "Epoch 23/35\n",
      "110288/110288 [==============================] - 26s 232us/step - loss: 0.3152 - acc: 0.9067 - val_loss: nan - val_acc: 0.9091\n",
      "Epoch 24/35\n",
      "110288/110288 [==============================] - 26s 232us/step - loss: 0.3269 - acc: 0.9048 - val_loss: nan - val_acc: 0.8980\n",
      "Epoch 25/35\n",
      "110288/110288 [==============================] - 26s 232us/step - loss: 0.2980 - acc: 0.9137 - val_loss: nan - val_acc: 0.8902\n",
      "Epoch 26/35\n",
      "110288/110288 [==============================] - 26s 232us/step - loss: 0.2629 - acc: 0.9244 - val_loss: nan - val_acc: 0.9289\n",
      "Epoch 27/35\n",
      "110288/110288 [==============================] - 25s 231us/step - loss: 0.2420 - acc: 0.9310 - val_loss: nan - val_acc: 0.9310\n",
      "Epoch 28/35\n",
      "110288/110288 [==============================] - 26s 231us/step - loss: 0.2306 - acc: 0.9344 - val_loss: nan - val_acc: 0.9367\n",
      "Epoch 29/35\n",
      "110288/110288 [==============================] - 26s 231us/step - loss: 0.2196 - acc: 0.9378 - val_loss: nan - val_acc: 0.9357\n",
      "Epoch 30/35\n",
      "110288/110288 [==============================] - 26s 231us/step - loss: 0.2074 - acc: 0.9415 - val_loss: nan - val_acc: 0.9421\n",
      "Epoch 31/35\n",
      "110288/110288 [==============================] - 26s 231us/step - loss: 0.3118 - acc: 0.9129 - val_loss: nan - val_acc: 0.9398\n",
      "Epoch 32/35\n",
      "110288/110288 [==============================] - 25s 231us/step - loss: 0.1964 - acc: 0.9452 - val_loss: nan - val_acc: 0.9373\n",
      "Epoch 33/35\n",
      "110288/110288 [==============================] - 26s 231us/step - loss: 0.1855 - acc: 0.9484 - val_loss: nan - val_acc: 0.9492\n",
      "Epoch 34/35\n",
      "110288/110288 [==============================] - 25s 230us/step - loss: 0.1933 - acc: 0.9459 - val_loss: nan - val_acc: 0.9299\n",
      "Epoch 35/35\n",
      "110288/110288 [==============================] - 25s 231us/step - loss: 0.1912 - acc: 0.9464 - val_loss: nan - val_acc: 0.9524\n",
      "Sample 1:\n",
      "il a vu un vieux camion jaune <PAD> <PAD> <PAD> <PAD> <PAD> <PAD> <PAD> <PAD> <PAD> <PAD> <PAD> <PAD> <PAD> <PAD>\n",
      "Il a vu un vieux camion jaune\n",
      "Sample 2:\n",
      "new jersey est parfois calme pendant l' automne et il est neigeux en avril <PAD> <PAD> <PAD> <PAD> <PAD> <PAD> <PAD>\n",
      "new jersey est parfois calme pendant l' automne et il est neigeux en avril <PAD> <PAD> <PAD> <PAD> <PAD> <PAD> <PAD>\n"
     ]
    }
   ],
   "source": [
    "def final_predictions(x, y, x_tk, y_tk):\n",
    "    \"\"\"\n",
    "    Gets predictions using the final model\n",
    "    :param x: Preprocessed English data\n",
    "    :param y: Preprocessed French data\n",
    "    :param x_tk: English tokenizer\n",
    "    :param y_tk: French tokenizer\n",
    "    \"\"\"\n",
    "    # TODO: Train neural network using model_final\n",
    "    x = pad(x, y.shape[1])\n",
    "    \n",
    "    model = model_final(x.shape, y.shape[1], len(x_tk.word_index), len(y_tk.word_index))\n",
    "    \n",
    "    model.fit(x, y, batch_size=1024, epochs=35, validation_split=0.2)\n",
    "    \n",
    "    ## DON'T EDIT ANYTHING BELOW THIS LINE\n",
    "    y_id_to_word = {value: key for key, value in y_tk.word_index.items()}\n",
    "    y_id_to_word[0] = '<PAD>'\n",
    "\n",
    "    sentence = 'he saw a old yellow truck'\n",
    "    sentence = [x_tk.word_index[word] for word in sentence.split()]\n",
    "    sentence = pad_sequences([sentence], maxlen=x.shape[-1], padding='post')\n",
    "    sentences = np.array([sentence[0], x[0]])\n",
    "    predictions = model.predict(sentences, len(sentences))\n",
    "\n",
    "    print('Sample 1:')\n",
    "    print(' '.join([y_id_to_word[np.argmax(x)] for x in predictions[0]]))\n",
    "    print('Il a vu un vieux camion jaune')\n",
    "    print('Sample 2:')\n",
    "    print(' '.join([y_id_to_word[np.argmax(x)] for x in predictions[1]]))\n",
    "    print(' '.join([y_id_to_word[np.max(x)] for x in y[0]]))\n",
    "\n",
    "\n",
    "final_predictions(preproc_english_sentences, preproc_french_sentences, english_tokenizer, french_tokenizer)"
   ]
  },
  {
   "cell_type": "markdown",
   "metadata": {},
   "source": [
    "## Submission\n",
    "When you're ready to submit, complete the following steps:\n",
    "1. Review the [rubric](https://review.udacity.com/#!/rubrics/1004/view) to ensure your submission meets all requirements to pass\n",
    "2. Generate an HTML version of this notebook\n",
    "\n",
    "  - Run the next cell to attempt automatic generation (this is the recommended method in Workspaces)\n",
    "  - Navigate to **FILE -> Download as -> HTML (.html)**\n",
    "  - Manually generate a copy using `nbconvert` from your shell terminal\n",
    "```\n",
    "$ pip install nbconvert\n",
    "$ python -m nbconvert machine_translation.ipynb\n",
    "```\n",
    "  \n",
    "3. Submit the project\n",
    "\n",
    "  - If you are in a Workspace, simply click the \"Submit Project\" button (bottom towards the right)\n",
    "  \n",
    "  - Otherwise, add the following files into a zip archive and submit them \n",
    "  - `helper.py`\n",
    "  - `machine_translation.ipynb`\n",
    "  - `machine_translation.html`\n",
    "    - You can export the notebook by navigating to **File -> Download as -> HTML (.html)**."
   ]
  },
  {
   "cell_type": "markdown",
   "metadata": {},
   "source": [
    "### Generate the html\n",
    "\n",
    "**Save your notebook before running the next cell to generate the HTML output.** Then submit your project."
   ]
  },
  {
   "cell_type": "code",
   "execution_count": 16,
   "metadata": {},
   "outputs": [
    {
     "data": {
      "text/plain": [
       "['[NbConvertApp] Converting notebook machine_translation.ipynb to html',\n",
       " '[NbConvertApp] Writing 374183 bytes to machine_translation.html',\n",
       " '[NbConvertApp] Converting notebook machine_translation-zh.ipynb to html',\n",
       " '[NbConvertApp] Writing 328013 bytes to machine_translation-zh.html']"
      ]
     },
     "execution_count": 16,
     "metadata": {},
     "output_type": "execute_result"
    }
   ],
   "source": [
    "# Save before you run this cell!\n",
    "!!jupyter nbconvert *.ipynb"
   ]
  },
  {
   "cell_type": "markdown",
   "metadata": {},
   "source": [
    "## Optional Enhancements\n",
    "\n",
    "This project focuses on learning various network architectures for machine translation, but we don't evaluate the models according to best practices by splitting the data into separate test & training sets -- so the model accuracy is overstated. Use the [`sklearn.model_selection.train_test_split()`](http://scikit-learn.org/stable/modules/generated/sklearn.model_selection.train_test_split.html) function to create separate training & test datasets, then retrain each of the models using only the training set and evaluate the prediction accuracy using the hold out test set. Does the \"best\" model change?"
   ]
  }
 ],
 "metadata": {
  "kernelspec": {
   "display_name": "Python 3",
   "language": "python",
   "name": "python3"
  },
  "language_info": {
   "codemirror_mode": {
    "name": "ipython",
    "version": 3
   },
   "file_extension": ".py",
   "mimetype": "text/x-python",
   "name": "python",
   "nbconvert_exporter": "python",
   "pygments_lexer": "ipython3",
   "version": "3.6.3"
  }
 },
 "nbformat": 4,
 "nbformat_minor": 1
}
